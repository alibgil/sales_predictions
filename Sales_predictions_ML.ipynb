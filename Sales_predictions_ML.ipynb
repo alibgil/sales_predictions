{
  "nbformat": 4,
  "nbformat_minor": 0,
  "metadata": {
    "colab": {
      "provenance": [],
      "mount_file_id": "1zsdNSbmhqoxmiXgA6CBvlQvMsITn9HTH",
      "authorship_tag": "ABX9TyPM7q2T7VNzrheoUEMwKtsq",
      "include_colab_link": true
    },
    "kernelspec": {
      "name": "python3",
      "display_name": "Python 3"
    },
    "language_info": {
      "name": "python"
    }
  },
  "cells": [
    {
      "cell_type": "markdown",
      "metadata": {
        "id": "view-in-github",
        "colab_type": "text"
      },
      "source": [
        "<a href=\"https://colab.research.google.com/github/alibgil/sales_predictions/blob/main/Sales_predictions_ML.ipynb\" target=\"_parent\"><img src=\"https://colab.research.google.com/assets/colab-badge.svg\" alt=\"Open In Colab\"/></a>"
      ]
    },
    {
      "cell_type": "markdown",
      "source": [
        "# **Predicción de ventas**"
      ],
      "metadata": {
        "id": "fg060NsWYm-f"
      }
    },
    {
      "cell_type": "markdown",
      "source": [
        "![download.jfif](data:image/jpeg;base64,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)"
      ],
      "metadata": {
        "id": "50IJI82rxEPf"
      }
    },
    {
      "cell_type": "markdown",
      "source": [
        "Predicción de ventas para productos alimenticios vendidos en diversas tiendas.  El objetivo de esto es ayudar al minorista a comprender las propiedades de los productos y los puntos de venta que desempeñan un papel crucial en el aumento de las ventas."
      ],
      "metadata": {
        "id": "8ENzhk26YwZo"
      }
    },
    {
      "cell_type": "markdown",
      "source": [
        "| Nombre de la variable     | Descripción                                                                                                           |\n",
        "|---------------------------|-----------------------------------------------------------------------------------------------------------------------|\n",
        "| Item_Identifier           | Identificación única del producto                                                                                     |\n",
        "| Item_Weight               | Peso del producto                                                                                                     |\n",
        "| Item_Fat_Content          | Si el producto es bajo en grasa o regular                                                                             |\n",
        "| Item_Visibility           | El porcentaje de la superficie total de exposición de todos los productos de una tienda asignada al producto concreto |\n",
        "| Item_Type                 | La categoría a la que el producto pertenece                                                                           |\n",
        "| Item_MRP                  | Precio máximo de venta al público (precio de catálogo) del producto                                                   |\n",
        "| Outlet_Identifier         | Identificación única de la tienda                                                                                     |\n",
        "| Outlet_Establishment_Year | El año cuando se estableció la tienda                                                                                 |\n",
        "| Outlet_Size               | El tamaño de la tienda con respecto a la superficie                                                                   |\n",
        "| Outlet_Location_Type      | El tipo de área donde está ubicada la tienda                                                                          |\n",
        "| Outlet_Type               | Si el marcado es un almacén o algún tipo de supermercado                                                              |\n",
        "| Item_Outlet_Sales         | Ventas del producto en la tienda particular Es la variable objetivo a predecir                                        |"
      ],
      "metadata": {
        "id": "zVX2WZpTSEbU"
      }
    },
    {
      "cell_type": "code",
      "source": [
        "#Librerías\n",
        "import pandas as pd\n",
        "import numpy as np\n",
        "from sklearn.preprocessing import StandardScaler, OneHotEncoder\n",
        "from sklearn.impute import SimpleImputer\n",
        "from sklearn.compose import make_column_transformer, make_column_selector\n",
        "from sklearn.pipeline import make_pipeline\n",
        "from sklearn.model_selection import train_test_split\n",
        "from sklearn import set_config\n",
        "set_config(display='diagram')"
      ],
      "metadata": {
        "id": "MGZUeEftW_Ko"
      },
      "execution_count": 1,
      "outputs": []
    },
    {
      "cell_type": "code",
      "execution_count": 2,
      "metadata": {
        "colab": {
          "base_uri": "https://localhost:8080/",
          "height": 374
        },
        "id": "h7uCvSBt1Z5s",
        "outputId": "17be9881-6948-490e-ef87-672c29266150"
      },
      "outputs": [
        {
          "output_type": "stream",
          "name": "stdout",
          "text": [
            "Mounted at /content/drive\n"
          ]
        },
        {
          "output_type": "execute_result",
          "data": {
            "text/plain": [
              "  Item_Identifier  Item_Weight Item_Fat_Content  Item_Visibility  \\\n",
              "0           FDA15         9.30          Low Fat         0.016047   \n",
              "1           DRC01         5.92          Regular         0.019278   \n",
              "2           FDN15        17.50          Low Fat         0.016760   \n",
              "3           FDX07        19.20          Regular         0.000000   \n",
              "4           NCD19         8.93          Low Fat         0.000000   \n",
              "\n",
              "               Item_Type  Item_MRP Outlet_Identifier  \\\n",
              "0                  Dairy  249.8092            OUT049   \n",
              "1            Soft Drinks   48.2692            OUT018   \n",
              "2                   Meat  141.6180            OUT049   \n",
              "3  Fruits and Vegetables  182.0950            OUT010   \n",
              "4              Household   53.8614            OUT013   \n",
              "\n",
              "   Outlet_Establishment_Year Outlet_Size Outlet_Location_Type  \\\n",
              "0                       1999      Medium               Tier 1   \n",
              "1                       2009      Medium               Tier 3   \n",
              "2                       1999      Medium               Tier 1   \n",
              "3                       1998         NaN               Tier 3   \n",
              "4                       1987        High               Tier 3   \n",
              "\n",
              "         Outlet_Type  Item_Outlet_Sales  \n",
              "0  Supermarket Type1          3735.1380  \n",
              "1  Supermarket Type2           443.4228  \n",
              "2  Supermarket Type1          2097.2700  \n",
              "3      Grocery Store           732.3800  \n",
              "4  Supermarket Type1           994.7052  "
            ],
            "text/html": [
              "\n",
              "  <div id=\"df-7a2a9fd9-688b-42c7-96db-e14a1b7a90b2\">\n",
              "    <div class=\"colab-df-container\">\n",
              "      <div>\n",
              "<style scoped>\n",
              "    .dataframe tbody tr th:only-of-type {\n",
              "        vertical-align: middle;\n",
              "    }\n",
              "\n",
              "    .dataframe tbody tr th {\n",
              "        vertical-align: top;\n",
              "    }\n",
              "\n",
              "    .dataframe thead th {\n",
              "        text-align: right;\n",
              "    }\n",
              "</style>\n",
              "<table border=\"1\" class=\"dataframe\">\n",
              "  <thead>\n",
              "    <tr style=\"text-align: right;\">\n",
              "      <th></th>\n",
              "      <th>Item_Identifier</th>\n",
              "      <th>Item_Weight</th>\n",
              "      <th>Item_Fat_Content</th>\n",
              "      <th>Item_Visibility</th>\n",
              "      <th>Item_Type</th>\n",
              "      <th>Item_MRP</th>\n",
              "      <th>Outlet_Identifier</th>\n",
              "      <th>Outlet_Establishment_Year</th>\n",
              "      <th>Outlet_Size</th>\n",
              "      <th>Outlet_Location_Type</th>\n",
              "      <th>Outlet_Type</th>\n",
              "      <th>Item_Outlet_Sales</th>\n",
              "    </tr>\n",
              "  </thead>\n",
              "  <tbody>\n",
              "    <tr>\n",
              "      <th>0</th>\n",
              "      <td>FDA15</td>\n",
              "      <td>9.30</td>\n",
              "      <td>Low Fat</td>\n",
              "      <td>0.016047</td>\n",
              "      <td>Dairy</td>\n",
              "      <td>249.8092</td>\n",
              "      <td>OUT049</td>\n",
              "      <td>1999</td>\n",
              "      <td>Medium</td>\n",
              "      <td>Tier 1</td>\n",
              "      <td>Supermarket Type1</td>\n",
              "      <td>3735.1380</td>\n",
              "    </tr>\n",
              "    <tr>\n",
              "      <th>1</th>\n",
              "      <td>DRC01</td>\n",
              "      <td>5.92</td>\n",
              "      <td>Regular</td>\n",
              "      <td>0.019278</td>\n",
              "      <td>Soft Drinks</td>\n",
              "      <td>48.2692</td>\n",
              "      <td>OUT018</td>\n",
              "      <td>2009</td>\n",
              "      <td>Medium</td>\n",
              "      <td>Tier 3</td>\n",
              "      <td>Supermarket Type2</td>\n",
              "      <td>443.4228</td>\n",
              "    </tr>\n",
              "    <tr>\n",
              "      <th>2</th>\n",
              "      <td>FDN15</td>\n",
              "      <td>17.50</td>\n",
              "      <td>Low Fat</td>\n",
              "      <td>0.016760</td>\n",
              "      <td>Meat</td>\n",
              "      <td>141.6180</td>\n",
              "      <td>OUT049</td>\n",
              "      <td>1999</td>\n",
              "      <td>Medium</td>\n",
              "      <td>Tier 1</td>\n",
              "      <td>Supermarket Type1</td>\n",
              "      <td>2097.2700</td>\n",
              "    </tr>\n",
              "    <tr>\n",
              "      <th>3</th>\n",
              "      <td>FDX07</td>\n",
              "      <td>19.20</td>\n",
              "      <td>Regular</td>\n",
              "      <td>0.000000</td>\n",
              "      <td>Fruits and Vegetables</td>\n",
              "      <td>182.0950</td>\n",
              "      <td>OUT010</td>\n",
              "      <td>1998</td>\n",
              "      <td>NaN</td>\n",
              "      <td>Tier 3</td>\n",
              "      <td>Grocery Store</td>\n",
              "      <td>732.3800</td>\n",
              "    </tr>\n",
              "    <tr>\n",
              "      <th>4</th>\n",
              "      <td>NCD19</td>\n",
              "      <td>8.93</td>\n",
              "      <td>Low Fat</td>\n",
              "      <td>0.000000</td>\n",
              "      <td>Household</td>\n",
              "      <td>53.8614</td>\n",
              "      <td>OUT013</td>\n",
              "      <td>1987</td>\n",
              "      <td>High</td>\n",
              "      <td>Tier 3</td>\n",
              "      <td>Supermarket Type1</td>\n",
              "      <td>994.7052</td>\n",
              "    </tr>\n",
              "  </tbody>\n",
              "</table>\n",
              "</div>\n",
              "      <button class=\"colab-df-convert\" onclick=\"convertToInteractive('df-7a2a9fd9-688b-42c7-96db-e14a1b7a90b2')\"\n",
              "              title=\"Convert this dataframe to an interactive table.\"\n",
              "              style=\"display:none;\">\n",
              "        \n",
              "  <svg xmlns=\"http://www.w3.org/2000/svg\" height=\"24px\"viewBox=\"0 0 24 24\"\n",
              "       width=\"24px\">\n",
              "    <path d=\"M0 0h24v24H0V0z\" fill=\"none\"/>\n",
              "    <path d=\"M18.56 5.44l.94 2.06.94-2.06 2.06-.94-2.06-.94-.94-2.06-.94 2.06-2.06.94zm-11 1L8.5 8.5l.94-2.06 2.06-.94-2.06-.94L8.5 2.5l-.94 2.06-2.06.94zm10 10l.94 2.06.94-2.06 2.06-.94-2.06-.94-.94-2.06-.94 2.06-2.06.94z\"/><path d=\"M17.41 7.96l-1.37-1.37c-.4-.4-.92-.59-1.43-.59-.52 0-1.04.2-1.43.59L10.3 9.45l-7.72 7.72c-.78.78-.78 2.05 0 2.83L4 21.41c.39.39.9.59 1.41.59.51 0 1.02-.2 1.41-.59l7.78-7.78 2.81-2.81c.8-.78.8-2.07 0-2.86zM5.41 20L4 18.59l7.72-7.72 1.47 1.35L5.41 20z\"/>\n",
              "  </svg>\n",
              "      </button>\n",
              "      \n",
              "  <style>\n",
              "    .colab-df-container {\n",
              "      display:flex;\n",
              "      flex-wrap:wrap;\n",
              "      gap: 12px;\n",
              "    }\n",
              "\n",
              "    .colab-df-convert {\n",
              "      background-color: #E8F0FE;\n",
              "      border: none;\n",
              "      border-radius: 50%;\n",
              "      cursor: pointer;\n",
              "      display: none;\n",
              "      fill: #1967D2;\n",
              "      height: 32px;\n",
              "      padding: 0 0 0 0;\n",
              "      width: 32px;\n",
              "    }\n",
              "\n",
              "    .colab-df-convert:hover {\n",
              "      background-color: #E2EBFA;\n",
              "      box-shadow: 0px 1px 2px rgba(60, 64, 67, 0.3), 0px 1px 3px 1px rgba(60, 64, 67, 0.15);\n",
              "      fill: #174EA6;\n",
              "    }\n",
              "\n",
              "    [theme=dark] .colab-df-convert {\n",
              "      background-color: #3B4455;\n",
              "      fill: #D2E3FC;\n",
              "    }\n",
              "\n",
              "    [theme=dark] .colab-df-convert:hover {\n",
              "      background-color: #434B5C;\n",
              "      box-shadow: 0px 1px 3px 1px rgba(0, 0, 0, 0.15);\n",
              "      filter: drop-shadow(0px 1px 2px rgba(0, 0, 0, 0.3));\n",
              "      fill: #FFFFFF;\n",
              "    }\n",
              "  </style>\n",
              "\n",
              "      <script>\n",
              "        const buttonEl =\n",
              "          document.querySelector('#df-7a2a9fd9-688b-42c7-96db-e14a1b7a90b2 button.colab-df-convert');\n",
              "        buttonEl.style.display =\n",
              "          google.colab.kernel.accessAllowed ? 'block' : 'none';\n",
              "\n",
              "        async function convertToInteractive(key) {\n",
              "          const element = document.querySelector('#df-7a2a9fd9-688b-42c7-96db-e14a1b7a90b2');\n",
              "          const dataTable =\n",
              "            await google.colab.kernel.invokeFunction('convertToInteractive',\n",
              "                                                     [key], {});\n",
              "          if (!dataTable) return;\n",
              "\n",
              "          const docLinkHtml = 'Like what you see? Visit the ' +\n",
              "            '<a target=\"_blank\" href=https://colab.research.google.com/notebooks/data_table.ipynb>data table notebook</a>'\n",
              "            + ' to learn more about interactive tables.';\n",
              "          element.innerHTML = '';\n",
              "          dataTable['output_type'] = 'display_data';\n",
              "          await google.colab.output.renderOutput(dataTable, element);\n",
              "          const docLink = document.createElement('div');\n",
              "          docLink.innerHTML = docLinkHtml;\n",
              "          element.appendChild(docLink);\n",
              "        }\n",
              "      </script>\n",
              "    </div>\n",
              "  </div>\n",
              "  "
            ]
          },
          "metadata": {},
          "execution_count": 2
        }
      ],
      "source": [
        "#Base de datos\n",
        "from google.colab import drive\n",
        "drive.mount('/content/drive')\n",
        "\n",
        "filename= '/content/drive/MyDrive/BootCamp/sales_predictions.csv'\n",
        "\n",
        "df = pd.read_csv(filename)\n",
        "df.head()"
      ]
    },
    {
      "cell_type": "markdown",
      "source": [
        "**Minería de Datos**"
      ],
      "metadata": {
        "id": "GbrMKmYRaALH"
      }
    },
    {
      "cell_type": "code",
      "source": [
        "#inspect the data\n",
        "print(df.info(), '\\n')\n",
        "print(df.isna().sum())"
      ],
      "metadata": {
        "id": "UK2t91q6-LKD",
        "outputId": "4abea9db-86e7-4822-e42f-e5cf543e0bb1",
        "colab": {
          "base_uri": "https://localhost:8080/"
        }
      },
      "execution_count": 3,
      "outputs": [
        {
          "output_type": "stream",
          "name": "stdout",
          "text": [
            "<class 'pandas.core.frame.DataFrame'>\n",
            "RangeIndex: 8523 entries, 0 to 8522\n",
            "Data columns (total 12 columns):\n",
            " #   Column                     Non-Null Count  Dtype  \n",
            "---  ------                     --------------  -----  \n",
            " 0   Item_Identifier            8523 non-null   object \n",
            " 1   Item_Weight                7060 non-null   float64\n",
            " 2   Item_Fat_Content           8523 non-null   object \n",
            " 3   Item_Visibility            8523 non-null   float64\n",
            " 4   Item_Type                  8523 non-null   object \n",
            " 5   Item_MRP                   8523 non-null   float64\n",
            " 6   Outlet_Identifier          8523 non-null   object \n",
            " 7   Outlet_Establishment_Year  8523 non-null   int64  \n",
            " 8   Outlet_Size                6113 non-null   object \n",
            " 9   Outlet_Location_Type       8523 non-null   object \n",
            " 10  Outlet_Type                8523 non-null   object \n",
            " 11  Item_Outlet_Sales          8523 non-null   float64\n",
            "dtypes: float64(4), int64(1), object(7)\n",
            "memory usage: 799.2+ KB\n",
            "None \n",
            "\n",
            "Item_Identifier                 0\n",
            "Item_Weight                  1463\n",
            "Item_Fat_Content                0\n",
            "Item_Visibility                 0\n",
            "Item_Type                       0\n",
            "Item_MRP                        0\n",
            "Outlet_Identifier               0\n",
            "Outlet_Establishment_Year       0\n",
            "Outlet_Size                  2410\n",
            "Outlet_Location_Type            0\n",
            "Outlet_Type                     0\n",
            "Item_Outlet_Sales               0\n",
            "dtype: int64\n"
          ]
        }
      ]
    },
    {
      "cell_type": "markdown",
      "source": [
        "Podemos ver una mezcla de tipos de datos con datos faltantes en columnas flotantes y columnas de objetos."
      ],
      "metadata": {
        "id": "LBN1bPycT0Ge"
      }
    },
    {
      "cell_type": "code",
      "source": [
        "#Identificación categorías\n",
        "cat_var = [key for key in dict(df.dtypes) if dict(df.dtypes)[key] in ['object'] ]\n",
        "for cat in cat_var:\n",
        "  print(df[cat].value_counts())"
      ],
      "metadata": {
        "colab": {
          "base_uri": "https://localhost:8080/"
        },
        "id": "dYSzdjTbToxe",
        "outputId": "8d2d2be0-5a35-4f30-d518-9929e811cea6"
      },
      "execution_count": 4,
      "outputs": [
        {
          "output_type": "stream",
          "name": "stdout",
          "text": [
            "FDW13    10\n",
            "FDG33    10\n",
            "NCY18     9\n",
            "FDD38     9\n",
            "DRE49     9\n",
            "         ..\n",
            "FDY43     1\n",
            "FDQ60     1\n",
            "FDO33     1\n",
            "DRF48     1\n",
            "FDC23     1\n",
            "Name: Item_Identifier, Length: 1559, dtype: int64\n",
            "Low Fat    5089\n",
            "Regular    2889\n",
            "LF          316\n",
            "reg         117\n",
            "low fat     112\n",
            "Name: Item_Fat_Content, dtype: int64\n",
            "Fruits and Vegetables    1232\n",
            "Snack Foods              1200\n",
            "Household                 910\n",
            "Frozen Foods              856\n",
            "Dairy                     682\n",
            "Canned                    649\n",
            "Baking Goods              648\n",
            "Health and Hygiene        520\n",
            "Soft Drinks               445\n",
            "Meat                      425\n",
            "Breads                    251\n",
            "Hard Drinks               214\n",
            "Others                    169\n",
            "Starchy Foods             148\n",
            "Breakfast                 110\n",
            "Seafood                    64\n",
            "Name: Item_Type, dtype: int64\n",
            "OUT027    935\n",
            "OUT013    932\n",
            "OUT049    930\n",
            "OUT046    930\n",
            "OUT035    930\n",
            "OUT045    929\n",
            "OUT018    928\n",
            "OUT017    926\n",
            "OUT010    555\n",
            "OUT019    528\n",
            "Name: Outlet_Identifier, dtype: int64\n",
            "Medium    2793\n",
            "Small     2388\n",
            "High       932\n",
            "Name: Outlet_Size, dtype: int64\n",
            "Tier 3    3350\n",
            "Tier 2    2785\n",
            "Tier 1    2388\n",
            "Name: Outlet_Location_Type, dtype: int64\n",
            "Supermarket Type1    5577\n",
            "Grocery Store        1083\n",
            "Supermarket Type3     935\n",
            "Supermarket Type2     928\n",
            "Name: Outlet_Type, dtype: int64\n"
          ]
        }
      ]
    },
    {
      "cell_type": "markdown",
      "source": [
        "Se procede a homologar las categorías de la variable Item_Fat_Content"
      ],
      "metadata": {
        "id": "eIDb4lFlEYdk"
      }
    },
    {
      "cell_type": "code",
      "source": [
        "df.replace({\"LF\": 'Low Fat', \"low fat\": 'Low Fat', \"reg\": 'Regular'}, inplace=True)\n",
        "df['Item_Fat_Content'].value_counts()"
      ],
      "metadata": {
        "id": "NrhXUP6uEluV",
        "outputId": "f6d252d1-64d2-4160-8051-da44bbfabfda",
        "colab": {
          "base_uri": "https://localhost:8080/"
        }
      },
      "execution_count": 5,
      "outputs": [
        {
          "output_type": "execute_result",
          "data": {
            "text/plain": [
              "Low Fat    5517\n",
              "Regular    3006\n",
              "Name: Item_Fat_Content, dtype: int64"
            ]
          },
          "metadata": {},
          "execution_count": 5
        }
      ]
    },
    {
      "cell_type": "code",
      "source": [
        "# División de valores\n",
        "X = df.drop('Item_Outlet_Sales', axis=1)\n",
        "y = df['Item_Outlet_Sales']\n",
        "X_train, X_test, y_train, y_test = train_test_split(X, y, random_state=42)"
      ],
      "metadata": {
        "id": "Q4g_QdDiZlhv"
      },
      "execution_count": 6,
      "outputs": []
    },
    {
      "cell_type": "code",
      "source": [
        "# Instanciar selectores\n",
        "cat_selector = make_column_selector(dtype_include='object')\n",
        "num_selector = make_column_selector(dtype_include='number')"
      ],
      "metadata": {
        "id": "tv0qPe-7a9eX"
      },
      "execution_count": 7,
      "outputs": []
    },
    {
      "cell_type": "code",
      "source": [
        "# Instanciar transformadores\n",
        "freq_imputer = SimpleImputer(strategy='most_frequent')\n",
        "mean_imputer = SimpleImputer(strategy='mean')\n",
        "# Scaler\n",
        "scaler = StandardScaler()\n",
        "# One-hot encoder\n",
        "ohe = OneHotEncoder(handle_unknown='ignore', sparse=False)"
      ],
      "metadata": {
        "id": "2x2pM107a-QL"
      },
      "execution_count": 8,
      "outputs": []
    },
    {
      "cell_type": "code",
      "source": [
        "# Instanciar pipelines\n",
        "# Numeric pipeline\n",
        "numeric_pipe = make_pipeline(mean_imputer, scaler)\n",
        "numeric_pipe"
      ],
      "metadata": {
        "colab": {
          "base_uri": "https://localhost:8080/",
          "height": 126
        },
        "id": "PJwIggCQbEW9",
        "outputId": "96a44e33-7e7e-44ff-8b49-18ce2e241ebd"
      },
      "execution_count": 9,
      "outputs": [
        {
          "output_type": "execute_result",
          "data": {
            "text/plain": [
              "Pipeline(steps=[('simpleimputer', SimpleImputer()),\n",
              "                ('standardscaler', StandardScaler())])"
            ],
            "text/html": [
              "<style>#sk-da68d894-4574-4e6d-a784-ff46f38d1c06 {color: black;background-color: white;}#sk-da68d894-4574-4e6d-a784-ff46f38d1c06 pre{padding: 0;}#sk-da68d894-4574-4e6d-a784-ff46f38d1c06 div.sk-toggleable {background-color: white;}#sk-da68d894-4574-4e6d-a784-ff46f38d1c06 label.sk-toggleable__label {cursor: pointer;display: block;width: 100%;margin-bottom: 0;padding: 0.3em;box-sizing: border-box;text-align: center;}#sk-da68d894-4574-4e6d-a784-ff46f38d1c06 label.sk-toggleable__label-arrow:before {content: \"▸\";float: left;margin-right: 0.25em;color: #696969;}#sk-da68d894-4574-4e6d-a784-ff46f38d1c06 label.sk-toggleable__label-arrow:hover:before {color: black;}#sk-da68d894-4574-4e6d-a784-ff46f38d1c06 div.sk-estimator:hover label.sk-toggleable__label-arrow:before {color: black;}#sk-da68d894-4574-4e6d-a784-ff46f38d1c06 div.sk-toggleable__content {max-height: 0;max-width: 0;overflow: hidden;text-align: left;background-color: #f0f8ff;}#sk-da68d894-4574-4e6d-a784-ff46f38d1c06 div.sk-toggleable__content pre {margin: 0.2em;color: black;border-radius: 0.25em;background-color: #f0f8ff;}#sk-da68d894-4574-4e6d-a784-ff46f38d1c06 input.sk-toggleable__control:checked~div.sk-toggleable__content {max-height: 200px;max-width: 100%;overflow: auto;}#sk-da68d894-4574-4e6d-a784-ff46f38d1c06 input.sk-toggleable__control:checked~label.sk-toggleable__label-arrow:before {content: \"▾\";}#sk-da68d894-4574-4e6d-a784-ff46f38d1c06 div.sk-estimator input.sk-toggleable__control:checked~label.sk-toggleable__label {background-color: #d4ebff;}#sk-da68d894-4574-4e6d-a784-ff46f38d1c06 div.sk-label input.sk-toggleable__control:checked~label.sk-toggleable__label {background-color: #d4ebff;}#sk-da68d894-4574-4e6d-a784-ff46f38d1c06 input.sk-hidden--visually {border: 0;clip: rect(1px 1px 1px 1px);clip: rect(1px, 1px, 1px, 1px);height: 1px;margin: -1px;overflow: hidden;padding: 0;position: absolute;width: 1px;}#sk-da68d894-4574-4e6d-a784-ff46f38d1c06 div.sk-estimator {font-family: monospace;background-color: #f0f8ff;border: 1px dotted black;border-radius: 0.25em;box-sizing: border-box;margin-bottom: 0.5em;}#sk-da68d894-4574-4e6d-a784-ff46f38d1c06 div.sk-estimator:hover {background-color: #d4ebff;}#sk-da68d894-4574-4e6d-a784-ff46f38d1c06 div.sk-parallel-item::after {content: \"\";width: 100%;border-bottom: 1px solid gray;flex-grow: 1;}#sk-da68d894-4574-4e6d-a784-ff46f38d1c06 div.sk-label:hover label.sk-toggleable__label {background-color: #d4ebff;}#sk-da68d894-4574-4e6d-a784-ff46f38d1c06 div.sk-serial::before {content: \"\";position: absolute;border-left: 1px solid gray;box-sizing: border-box;top: 2em;bottom: 0;left: 50%;}#sk-da68d894-4574-4e6d-a784-ff46f38d1c06 div.sk-serial {display: flex;flex-direction: column;align-items: center;background-color: white;padding-right: 0.2em;padding-left: 0.2em;}#sk-da68d894-4574-4e6d-a784-ff46f38d1c06 div.sk-item {z-index: 1;}#sk-da68d894-4574-4e6d-a784-ff46f38d1c06 div.sk-parallel {display: flex;align-items: stretch;justify-content: center;background-color: white;}#sk-da68d894-4574-4e6d-a784-ff46f38d1c06 div.sk-parallel::before {content: \"\";position: absolute;border-left: 1px solid gray;box-sizing: border-box;top: 2em;bottom: 0;left: 50%;}#sk-da68d894-4574-4e6d-a784-ff46f38d1c06 div.sk-parallel-item {display: flex;flex-direction: column;position: relative;background-color: white;}#sk-da68d894-4574-4e6d-a784-ff46f38d1c06 div.sk-parallel-item:first-child::after {align-self: flex-end;width: 50%;}#sk-da68d894-4574-4e6d-a784-ff46f38d1c06 div.sk-parallel-item:last-child::after {align-self: flex-start;width: 50%;}#sk-da68d894-4574-4e6d-a784-ff46f38d1c06 div.sk-parallel-item:only-child::after {width: 0;}#sk-da68d894-4574-4e6d-a784-ff46f38d1c06 div.sk-dashed-wrapped {border: 1px dashed gray;margin: 0 0.4em 0.5em 0.4em;box-sizing: border-box;padding-bottom: 0.4em;background-color: white;position: relative;}#sk-da68d894-4574-4e6d-a784-ff46f38d1c06 div.sk-label label {font-family: monospace;font-weight: bold;background-color: white;display: inline-block;line-height: 1.2em;}#sk-da68d894-4574-4e6d-a784-ff46f38d1c06 div.sk-label-container {position: relative;z-index: 2;text-align: center;}#sk-da68d894-4574-4e6d-a784-ff46f38d1c06 div.sk-container {/* jupyter's `normalize.less` sets `[hidden] { display: none; }` but bootstrap.min.css set `[hidden] { display: none !important; }` so we also need the `!important` here to be able to override the default hidden behavior on the sphinx rendered scikit-learn.org. See: https://github.com/scikit-learn/scikit-learn/issues/21755 */display: inline-block !important;position: relative;}#sk-da68d894-4574-4e6d-a784-ff46f38d1c06 div.sk-text-repr-fallback {display: none;}</style><div id=\"sk-da68d894-4574-4e6d-a784-ff46f38d1c06\" class=\"sk-top-container\"><div class=\"sk-text-repr-fallback\"><pre>Pipeline(steps=[(&#x27;simpleimputer&#x27;, SimpleImputer()),\n",
              "                (&#x27;standardscaler&#x27;, StandardScaler())])</pre><b>Please rerun this cell to show the HTML repr or trust the notebook.</b></div><div class=\"sk-container\" hidden><div class=\"sk-item sk-dashed-wrapped\"><div class=\"sk-label-container\"><div class=\"sk-label sk-toggleable\"><input class=\"sk-toggleable__control sk-hidden--visually\" id=\"fd61b809-3773-481a-9529-fa6105d5931e\" type=\"checkbox\" ><label for=\"fd61b809-3773-481a-9529-fa6105d5931e\" class=\"sk-toggleable__label sk-toggleable__label-arrow\">Pipeline</label><div class=\"sk-toggleable__content\"><pre>Pipeline(steps=[(&#x27;simpleimputer&#x27;, SimpleImputer()),\n",
              "                (&#x27;standardscaler&#x27;, StandardScaler())])</pre></div></div></div><div class=\"sk-serial\"><div class=\"sk-item\"><div class=\"sk-estimator sk-toggleable\"><input class=\"sk-toggleable__control sk-hidden--visually\" id=\"879728b2-5ab7-4880-afe1-279edeee9164\" type=\"checkbox\" ><label for=\"879728b2-5ab7-4880-afe1-279edeee9164\" class=\"sk-toggleable__label sk-toggleable__label-arrow\">SimpleImputer</label><div class=\"sk-toggleable__content\"><pre>SimpleImputer()</pre></div></div></div><div class=\"sk-item\"><div class=\"sk-estimator sk-toggleable\"><input class=\"sk-toggleable__control sk-hidden--visually\" id=\"a53a240c-c72f-4638-b74a-0820f281487c\" type=\"checkbox\" ><label for=\"a53a240c-c72f-4638-b74a-0820f281487c\" class=\"sk-toggleable__label sk-toggleable__label-arrow\">StandardScaler</label><div class=\"sk-toggleable__content\"><pre>StandardScaler()</pre></div></div></div></div></div></div></div>"
            ]
          },
          "metadata": {},
          "execution_count": 9
        }
      ]
    },
    {
      "cell_type": "code",
      "source": [
        "# Categorical pipeline\n",
        "categorical_pipe = make_pipeline(freq_imputer, ohe)\n",
        "categorical_pipe"
      ],
      "metadata": {
        "colab": {
          "base_uri": "https://localhost:8080/",
          "height": 126
        },
        "id": "aJ8OkBDKbJhD",
        "outputId": "921146fa-541f-4824-dd3f-a20e10717450"
      },
      "execution_count": 10,
      "outputs": [
        {
          "output_type": "execute_result",
          "data": {
            "text/plain": [
              "Pipeline(steps=[('simpleimputer', SimpleImputer(strategy='most_frequent')),\n",
              "                ('onehotencoder',\n",
              "                 OneHotEncoder(handle_unknown='ignore', sparse=False))])"
            ],
            "text/html": [
              "<style>#sk-7e86ebfd-1593-4997-8dfd-03e2961e401b {color: black;background-color: white;}#sk-7e86ebfd-1593-4997-8dfd-03e2961e401b pre{padding: 0;}#sk-7e86ebfd-1593-4997-8dfd-03e2961e401b div.sk-toggleable {background-color: white;}#sk-7e86ebfd-1593-4997-8dfd-03e2961e401b label.sk-toggleable__label {cursor: pointer;display: block;width: 100%;margin-bottom: 0;padding: 0.3em;box-sizing: border-box;text-align: center;}#sk-7e86ebfd-1593-4997-8dfd-03e2961e401b label.sk-toggleable__label-arrow:before {content: \"▸\";float: left;margin-right: 0.25em;color: #696969;}#sk-7e86ebfd-1593-4997-8dfd-03e2961e401b label.sk-toggleable__label-arrow:hover:before {color: black;}#sk-7e86ebfd-1593-4997-8dfd-03e2961e401b div.sk-estimator:hover label.sk-toggleable__label-arrow:before {color: black;}#sk-7e86ebfd-1593-4997-8dfd-03e2961e401b div.sk-toggleable__content {max-height: 0;max-width: 0;overflow: hidden;text-align: left;background-color: #f0f8ff;}#sk-7e86ebfd-1593-4997-8dfd-03e2961e401b div.sk-toggleable__content pre {margin: 0.2em;color: black;border-radius: 0.25em;background-color: #f0f8ff;}#sk-7e86ebfd-1593-4997-8dfd-03e2961e401b input.sk-toggleable__control:checked~div.sk-toggleable__content {max-height: 200px;max-width: 100%;overflow: auto;}#sk-7e86ebfd-1593-4997-8dfd-03e2961e401b input.sk-toggleable__control:checked~label.sk-toggleable__label-arrow:before {content: \"▾\";}#sk-7e86ebfd-1593-4997-8dfd-03e2961e401b div.sk-estimator input.sk-toggleable__control:checked~label.sk-toggleable__label {background-color: #d4ebff;}#sk-7e86ebfd-1593-4997-8dfd-03e2961e401b div.sk-label input.sk-toggleable__control:checked~label.sk-toggleable__label {background-color: #d4ebff;}#sk-7e86ebfd-1593-4997-8dfd-03e2961e401b input.sk-hidden--visually {border: 0;clip: rect(1px 1px 1px 1px);clip: rect(1px, 1px, 1px, 1px);height: 1px;margin: -1px;overflow: hidden;padding: 0;position: absolute;width: 1px;}#sk-7e86ebfd-1593-4997-8dfd-03e2961e401b div.sk-estimator {font-family: monospace;background-color: #f0f8ff;border: 1px dotted black;border-radius: 0.25em;box-sizing: border-box;margin-bottom: 0.5em;}#sk-7e86ebfd-1593-4997-8dfd-03e2961e401b div.sk-estimator:hover {background-color: #d4ebff;}#sk-7e86ebfd-1593-4997-8dfd-03e2961e401b div.sk-parallel-item::after {content: \"\";width: 100%;border-bottom: 1px solid gray;flex-grow: 1;}#sk-7e86ebfd-1593-4997-8dfd-03e2961e401b div.sk-label:hover label.sk-toggleable__label {background-color: #d4ebff;}#sk-7e86ebfd-1593-4997-8dfd-03e2961e401b div.sk-serial::before {content: \"\";position: absolute;border-left: 1px solid gray;box-sizing: border-box;top: 2em;bottom: 0;left: 50%;}#sk-7e86ebfd-1593-4997-8dfd-03e2961e401b div.sk-serial {display: flex;flex-direction: column;align-items: center;background-color: white;padding-right: 0.2em;padding-left: 0.2em;}#sk-7e86ebfd-1593-4997-8dfd-03e2961e401b div.sk-item {z-index: 1;}#sk-7e86ebfd-1593-4997-8dfd-03e2961e401b div.sk-parallel {display: flex;align-items: stretch;justify-content: center;background-color: white;}#sk-7e86ebfd-1593-4997-8dfd-03e2961e401b div.sk-parallel::before {content: \"\";position: absolute;border-left: 1px solid gray;box-sizing: border-box;top: 2em;bottom: 0;left: 50%;}#sk-7e86ebfd-1593-4997-8dfd-03e2961e401b div.sk-parallel-item {display: flex;flex-direction: column;position: relative;background-color: white;}#sk-7e86ebfd-1593-4997-8dfd-03e2961e401b div.sk-parallel-item:first-child::after {align-self: flex-end;width: 50%;}#sk-7e86ebfd-1593-4997-8dfd-03e2961e401b div.sk-parallel-item:last-child::after {align-self: flex-start;width: 50%;}#sk-7e86ebfd-1593-4997-8dfd-03e2961e401b div.sk-parallel-item:only-child::after {width: 0;}#sk-7e86ebfd-1593-4997-8dfd-03e2961e401b div.sk-dashed-wrapped {border: 1px dashed gray;margin: 0 0.4em 0.5em 0.4em;box-sizing: border-box;padding-bottom: 0.4em;background-color: white;position: relative;}#sk-7e86ebfd-1593-4997-8dfd-03e2961e401b div.sk-label label {font-family: monospace;font-weight: bold;background-color: white;display: inline-block;line-height: 1.2em;}#sk-7e86ebfd-1593-4997-8dfd-03e2961e401b div.sk-label-container {position: relative;z-index: 2;text-align: center;}#sk-7e86ebfd-1593-4997-8dfd-03e2961e401b div.sk-container {/* jupyter's `normalize.less` sets `[hidden] { display: none; }` but bootstrap.min.css set `[hidden] { display: none !important; }` so we also need the `!important` here to be able to override the default hidden behavior on the sphinx rendered scikit-learn.org. See: https://github.com/scikit-learn/scikit-learn/issues/21755 */display: inline-block !important;position: relative;}#sk-7e86ebfd-1593-4997-8dfd-03e2961e401b div.sk-text-repr-fallback {display: none;}</style><div id=\"sk-7e86ebfd-1593-4997-8dfd-03e2961e401b\" class=\"sk-top-container\"><div class=\"sk-text-repr-fallback\"><pre>Pipeline(steps=[(&#x27;simpleimputer&#x27;, SimpleImputer(strategy=&#x27;most_frequent&#x27;)),\n",
              "                (&#x27;onehotencoder&#x27;,\n",
              "                 OneHotEncoder(handle_unknown=&#x27;ignore&#x27;, sparse=False))])</pre><b>Please rerun this cell to show the HTML repr or trust the notebook.</b></div><div class=\"sk-container\" hidden><div class=\"sk-item sk-dashed-wrapped\"><div class=\"sk-label-container\"><div class=\"sk-label sk-toggleable\"><input class=\"sk-toggleable__control sk-hidden--visually\" id=\"336e563c-cb3a-4852-a11b-4fdf099e6bc0\" type=\"checkbox\" ><label for=\"336e563c-cb3a-4852-a11b-4fdf099e6bc0\" class=\"sk-toggleable__label sk-toggleable__label-arrow\">Pipeline</label><div class=\"sk-toggleable__content\"><pre>Pipeline(steps=[(&#x27;simpleimputer&#x27;, SimpleImputer(strategy=&#x27;most_frequent&#x27;)),\n",
              "                (&#x27;onehotencoder&#x27;,\n",
              "                 OneHotEncoder(handle_unknown=&#x27;ignore&#x27;, sparse=False))])</pre></div></div></div><div class=\"sk-serial\"><div class=\"sk-item\"><div class=\"sk-estimator sk-toggleable\"><input class=\"sk-toggleable__control sk-hidden--visually\" id=\"38f5be52-8d20-4001-87bd-6c190bdaf620\" type=\"checkbox\" ><label for=\"38f5be52-8d20-4001-87bd-6c190bdaf620\" class=\"sk-toggleable__label sk-toggleable__label-arrow\">SimpleImputer</label><div class=\"sk-toggleable__content\"><pre>SimpleImputer(strategy=&#x27;most_frequent&#x27;)</pre></div></div></div><div class=\"sk-item\"><div class=\"sk-estimator sk-toggleable\"><input class=\"sk-toggleable__control sk-hidden--visually\" id=\"8c91338e-987c-40e6-8364-b0b4a35a5b20\" type=\"checkbox\" ><label for=\"8c91338e-987c-40e6-8364-b0b4a35a5b20\" class=\"sk-toggleable__label sk-toggleable__label-arrow\">OneHotEncoder</label><div class=\"sk-toggleable__content\"><pre>OneHotEncoder(handle_unknown=&#x27;ignore&#x27;, sparse=False)</pre></div></div></div></div></div></div></div>"
            ]
          },
          "metadata": {},
          "execution_count": 10
        }
      ]
    },
    {
      "cell_type": "code",
      "source": [
        "#Instanciar transformador de columnas\n",
        "\n",
        "# Tuples para Column Transformer\n",
        "number_tuple = (numeric_pipe, num_selector)\n",
        "category_tuple = (categorical_pipe, cat_selector)\n",
        "# ColumnTransformer\n",
        "preprocessor = make_column_transformer(number_tuple, category_tuple)\n",
        "preprocessor"
      ],
      "metadata": {
        "colab": {
          "base_uri": "https://localhost:8080/",
          "height": 153
        },
        "id": "7R9HblLQbPlT",
        "outputId": "a893e974-5504-4ca7-e47f-a4c15cc35c52"
      },
      "execution_count": 11,
      "outputs": [
        {
          "output_type": "execute_result",
          "data": {
            "text/plain": [
              "ColumnTransformer(transformers=[('pipeline-1',\n",
              "                                 Pipeline(steps=[('simpleimputer',\n",
              "                                                  SimpleImputer()),\n",
              "                                                 ('standardscaler',\n",
              "                                                  StandardScaler())]),\n",
              "                                 <sklearn.compose._column_transformer.make_column_selector object at 0x7f22c53ba6a0>),\n",
              "                                ('pipeline-2',\n",
              "                                 Pipeline(steps=[('simpleimputer',\n",
              "                                                  SimpleImputer(strategy='most_frequent')),\n",
              "                                                 ('onehotencoder',\n",
              "                                                  OneHotEncoder(handle_unknown='ignore',\n",
              "                                                                sparse=False))]),\n",
              "                                 <sklearn.compose._column_transformer.make_column_selector object at 0x7f22c53baeb0>)])"
            ],
            "text/html": [
              "<style>#sk-da311bcd-b7e7-4006-95cf-312b6783baef {color: black;background-color: white;}#sk-da311bcd-b7e7-4006-95cf-312b6783baef pre{padding: 0;}#sk-da311bcd-b7e7-4006-95cf-312b6783baef div.sk-toggleable {background-color: white;}#sk-da311bcd-b7e7-4006-95cf-312b6783baef label.sk-toggleable__label {cursor: pointer;display: block;width: 100%;margin-bottom: 0;padding: 0.3em;box-sizing: border-box;text-align: center;}#sk-da311bcd-b7e7-4006-95cf-312b6783baef label.sk-toggleable__label-arrow:before {content: \"▸\";float: left;margin-right: 0.25em;color: #696969;}#sk-da311bcd-b7e7-4006-95cf-312b6783baef label.sk-toggleable__label-arrow:hover:before {color: black;}#sk-da311bcd-b7e7-4006-95cf-312b6783baef div.sk-estimator:hover label.sk-toggleable__label-arrow:before {color: black;}#sk-da311bcd-b7e7-4006-95cf-312b6783baef div.sk-toggleable__content {max-height: 0;max-width: 0;overflow: hidden;text-align: left;background-color: #f0f8ff;}#sk-da311bcd-b7e7-4006-95cf-312b6783baef div.sk-toggleable__content pre {margin: 0.2em;color: black;border-radius: 0.25em;background-color: #f0f8ff;}#sk-da311bcd-b7e7-4006-95cf-312b6783baef input.sk-toggleable__control:checked~div.sk-toggleable__content {max-height: 200px;max-width: 100%;overflow: auto;}#sk-da311bcd-b7e7-4006-95cf-312b6783baef input.sk-toggleable__control:checked~label.sk-toggleable__label-arrow:before {content: \"▾\";}#sk-da311bcd-b7e7-4006-95cf-312b6783baef div.sk-estimator input.sk-toggleable__control:checked~label.sk-toggleable__label {background-color: #d4ebff;}#sk-da311bcd-b7e7-4006-95cf-312b6783baef div.sk-label input.sk-toggleable__control:checked~label.sk-toggleable__label {background-color: #d4ebff;}#sk-da311bcd-b7e7-4006-95cf-312b6783baef input.sk-hidden--visually {border: 0;clip: rect(1px 1px 1px 1px);clip: rect(1px, 1px, 1px, 1px);height: 1px;margin: -1px;overflow: hidden;padding: 0;position: absolute;width: 1px;}#sk-da311bcd-b7e7-4006-95cf-312b6783baef div.sk-estimator {font-family: monospace;background-color: #f0f8ff;border: 1px dotted black;border-radius: 0.25em;box-sizing: border-box;margin-bottom: 0.5em;}#sk-da311bcd-b7e7-4006-95cf-312b6783baef div.sk-estimator:hover {background-color: #d4ebff;}#sk-da311bcd-b7e7-4006-95cf-312b6783baef div.sk-parallel-item::after {content: \"\";width: 100%;border-bottom: 1px solid gray;flex-grow: 1;}#sk-da311bcd-b7e7-4006-95cf-312b6783baef div.sk-label:hover label.sk-toggleable__label {background-color: #d4ebff;}#sk-da311bcd-b7e7-4006-95cf-312b6783baef div.sk-serial::before {content: \"\";position: absolute;border-left: 1px solid gray;box-sizing: border-box;top: 2em;bottom: 0;left: 50%;}#sk-da311bcd-b7e7-4006-95cf-312b6783baef div.sk-serial {display: flex;flex-direction: column;align-items: center;background-color: white;padding-right: 0.2em;padding-left: 0.2em;}#sk-da311bcd-b7e7-4006-95cf-312b6783baef div.sk-item {z-index: 1;}#sk-da311bcd-b7e7-4006-95cf-312b6783baef div.sk-parallel {display: flex;align-items: stretch;justify-content: center;background-color: white;}#sk-da311bcd-b7e7-4006-95cf-312b6783baef div.sk-parallel::before {content: \"\";position: absolute;border-left: 1px solid gray;box-sizing: border-box;top: 2em;bottom: 0;left: 50%;}#sk-da311bcd-b7e7-4006-95cf-312b6783baef div.sk-parallel-item {display: flex;flex-direction: column;position: relative;background-color: white;}#sk-da311bcd-b7e7-4006-95cf-312b6783baef div.sk-parallel-item:first-child::after {align-self: flex-end;width: 50%;}#sk-da311bcd-b7e7-4006-95cf-312b6783baef div.sk-parallel-item:last-child::after {align-self: flex-start;width: 50%;}#sk-da311bcd-b7e7-4006-95cf-312b6783baef div.sk-parallel-item:only-child::after {width: 0;}#sk-da311bcd-b7e7-4006-95cf-312b6783baef div.sk-dashed-wrapped {border: 1px dashed gray;margin: 0 0.4em 0.5em 0.4em;box-sizing: border-box;padding-bottom: 0.4em;background-color: white;position: relative;}#sk-da311bcd-b7e7-4006-95cf-312b6783baef div.sk-label label {font-family: monospace;font-weight: bold;background-color: white;display: inline-block;line-height: 1.2em;}#sk-da311bcd-b7e7-4006-95cf-312b6783baef div.sk-label-container {position: relative;z-index: 2;text-align: center;}#sk-da311bcd-b7e7-4006-95cf-312b6783baef div.sk-container {/* jupyter's `normalize.less` sets `[hidden] { display: none; }` but bootstrap.min.css set `[hidden] { display: none !important; }` so we also need the `!important` here to be able to override the default hidden behavior on the sphinx rendered scikit-learn.org. See: https://github.com/scikit-learn/scikit-learn/issues/21755 */display: inline-block !important;position: relative;}#sk-da311bcd-b7e7-4006-95cf-312b6783baef div.sk-text-repr-fallback {display: none;}</style><div id=\"sk-da311bcd-b7e7-4006-95cf-312b6783baef\" class=\"sk-top-container\"><div class=\"sk-text-repr-fallback\"><pre>ColumnTransformer(transformers=[(&#x27;pipeline-1&#x27;,\n",
              "                                 Pipeline(steps=[(&#x27;simpleimputer&#x27;,\n",
              "                                                  SimpleImputer()),\n",
              "                                                 (&#x27;standardscaler&#x27;,\n",
              "                                                  StandardScaler())]),\n",
              "                                 &lt;sklearn.compose._column_transformer.make_column_selector object at 0x7f22c53ba6a0&gt;),\n",
              "                                (&#x27;pipeline-2&#x27;,\n",
              "                                 Pipeline(steps=[(&#x27;simpleimputer&#x27;,\n",
              "                                                  SimpleImputer(strategy=&#x27;most_frequent&#x27;)),\n",
              "                                                 (&#x27;onehotencoder&#x27;,\n",
              "                                                  OneHotEncoder(handle_unknown=&#x27;ignore&#x27;,\n",
              "                                                                sparse=False))]),\n",
              "                                 &lt;sklearn.compose._column_transformer.make_column_selector object at 0x7f22c53baeb0&gt;)])</pre><b>Please rerun this cell to show the HTML repr or trust the notebook.</b></div><div class=\"sk-container\" hidden><div class=\"sk-item sk-dashed-wrapped\"><div class=\"sk-label-container\"><div class=\"sk-label sk-toggleable\"><input class=\"sk-toggleable__control sk-hidden--visually\" id=\"eb21236c-3f87-4380-a4ca-e5ee35289e6c\" type=\"checkbox\" ><label for=\"eb21236c-3f87-4380-a4ca-e5ee35289e6c\" class=\"sk-toggleable__label sk-toggleable__label-arrow\">ColumnTransformer</label><div class=\"sk-toggleable__content\"><pre>ColumnTransformer(transformers=[(&#x27;pipeline-1&#x27;,\n",
              "                                 Pipeline(steps=[(&#x27;simpleimputer&#x27;,\n",
              "                                                  SimpleImputer()),\n",
              "                                                 (&#x27;standardscaler&#x27;,\n",
              "                                                  StandardScaler())]),\n",
              "                                 &lt;sklearn.compose._column_transformer.make_column_selector object at 0x7f22c53ba6a0&gt;),\n",
              "                                (&#x27;pipeline-2&#x27;,\n",
              "                                 Pipeline(steps=[(&#x27;simpleimputer&#x27;,\n",
              "                                                  SimpleImputer(strategy=&#x27;most_frequent&#x27;)),\n",
              "                                                 (&#x27;onehotencoder&#x27;,\n",
              "                                                  OneHotEncoder(handle_unknown=&#x27;ignore&#x27;,\n",
              "                                                                sparse=False))]),\n",
              "                                 &lt;sklearn.compose._column_transformer.make_column_selector object at 0x7f22c53baeb0&gt;)])</pre></div></div></div><div class=\"sk-parallel\"><div class=\"sk-parallel-item\"><div class=\"sk-item\"><div class=\"sk-label-container\"><div class=\"sk-label sk-toggleable\"><input class=\"sk-toggleable__control sk-hidden--visually\" id=\"4eb4110a-26dd-45cf-81c8-5d93998f3436\" type=\"checkbox\" ><label for=\"4eb4110a-26dd-45cf-81c8-5d93998f3436\" class=\"sk-toggleable__label sk-toggleable__label-arrow\">pipeline-1</label><div class=\"sk-toggleable__content\"><pre>&lt;sklearn.compose._column_transformer.make_column_selector object at 0x7f22c53ba6a0&gt;</pre></div></div></div><div class=\"sk-serial\"><div class=\"sk-item\"><div class=\"sk-serial\"><div class=\"sk-item\"><div class=\"sk-estimator sk-toggleable\"><input class=\"sk-toggleable__control sk-hidden--visually\" id=\"02b39dc9-b96a-40f5-8389-f88881b4daa7\" type=\"checkbox\" ><label for=\"02b39dc9-b96a-40f5-8389-f88881b4daa7\" class=\"sk-toggleable__label sk-toggleable__label-arrow\">SimpleImputer</label><div class=\"sk-toggleable__content\"><pre>SimpleImputer()</pre></div></div></div><div class=\"sk-item\"><div class=\"sk-estimator sk-toggleable\"><input class=\"sk-toggleable__control sk-hidden--visually\" id=\"f71b7932-79b0-4dc7-8c48-b8542ffb9d9e\" type=\"checkbox\" ><label for=\"f71b7932-79b0-4dc7-8c48-b8542ffb9d9e\" class=\"sk-toggleable__label sk-toggleable__label-arrow\">StandardScaler</label><div class=\"sk-toggleable__content\"><pre>StandardScaler()</pre></div></div></div></div></div></div></div></div><div class=\"sk-parallel-item\"><div class=\"sk-item\"><div class=\"sk-label-container\"><div class=\"sk-label sk-toggleable\"><input class=\"sk-toggleable__control sk-hidden--visually\" id=\"cf41a5c2-41e5-42de-a5d7-7be639469f0d\" type=\"checkbox\" ><label for=\"cf41a5c2-41e5-42de-a5d7-7be639469f0d\" class=\"sk-toggleable__label sk-toggleable__label-arrow\">pipeline-2</label><div class=\"sk-toggleable__content\"><pre>&lt;sklearn.compose._column_transformer.make_column_selector object at 0x7f22c53baeb0&gt;</pre></div></div></div><div class=\"sk-serial\"><div class=\"sk-item\"><div class=\"sk-serial\"><div class=\"sk-item\"><div class=\"sk-estimator sk-toggleable\"><input class=\"sk-toggleable__control sk-hidden--visually\" id=\"09b06467-e401-4cd7-80aa-80287f448f3f\" type=\"checkbox\" ><label for=\"09b06467-e401-4cd7-80aa-80287f448f3f\" class=\"sk-toggleable__label sk-toggleable__label-arrow\">SimpleImputer</label><div class=\"sk-toggleable__content\"><pre>SimpleImputer(strategy=&#x27;most_frequent&#x27;)</pre></div></div></div><div class=\"sk-item\"><div class=\"sk-estimator sk-toggleable\"><input class=\"sk-toggleable__control sk-hidden--visually\" id=\"844e1eaf-1cc7-471d-96bf-314dba9d4821\" type=\"checkbox\" ><label for=\"844e1eaf-1cc7-471d-96bf-314dba9d4821\" class=\"sk-toggleable__label sk-toggleable__label-arrow\">OneHotEncoder</label><div class=\"sk-toggleable__content\"><pre>OneHotEncoder(handle_unknown=&#x27;ignore&#x27;, sparse=False)</pre></div></div></div></div></div></div></div></div></div></div></div></div>"
            ]
          },
          "metadata": {},
          "execution_count": 11
        }
      ]
    },
    {
      "cell_type": "code",
      "source": [
        "#Transformar datos\n",
        "\n",
        "# fit on train\n",
        "preprocessor.fit(X_train)\n",
        "\n",
        "X_train_processed = preprocessor.transform(X_train)\n",
        "X_test_processed = preprocessor.transform(X_test)"
      ],
      "metadata": {
        "id": "9YarLPdwbVWQ"
      },
      "execution_count": 12,
      "outputs": []
    },
    {
      "cell_type": "code",
      "source": [
        "# Comprobación de los valores faltantes y que los datos se escalen y tengan una codificación one-hot\n",
        "print(np.isnan(X_train_processed).sum().sum(), 'missing values in training data')\n",
        "print(np.isnan(X_test_processed).sum().sum(), 'missing values in testing data')\n",
        "print('\\n')\n",
        "print('All data in X_train_processed are', X_train_processed.dtype)\n",
        "print('All data in X_test_processed are', X_test_processed.dtype)\n",
        "print('\\n')\n",
        "print('shape of data is', X_train_processed.shape)\n",
        "print('\\n')\n",
        "X_train_processed"
      ],
      "metadata": {
        "colab": {
          "base_uri": "https://localhost:8080/"
        },
        "id": "-_MUAgDVbcuI",
        "outputId": "f8a6eab7-c350-441e-e39a-6a7deaa157d5"
      },
      "execution_count": 13,
      "outputs": [
        {
          "output_type": "stream",
          "name": "stdout",
          "text": [
            "0 missing values in training data\n",
            "0 missing values in testing data\n",
            "\n",
            "\n",
            "All data in X_train_processed are float64\n",
            "All data in X_test_processed are float64\n",
            "\n",
            "\n",
            "shape of data is (6392, 1592)\n",
            "\n",
            "\n"
          ]
        },
        {
          "output_type": "execute_result",
          "data": {
            "text/plain": [
              "array([[ 0.81724868, -0.71277507,  1.82810922, ...,  0.        ,\n",
              "         1.        ,  0.        ],\n",
              "       [ 0.5563395 , -1.29105225,  0.60336888, ...,  0.        ,\n",
              "         1.        ,  0.        ],\n",
              "       [-0.13151196,  1.81331864,  0.24454056, ...,  1.        ,\n",
              "         0.        ,  0.        ],\n",
              "       ...,\n",
              "       [ 1.11373638, -0.92052713,  1.52302674, ...,  1.        ,\n",
              "         0.        ,  0.        ],\n",
              "       [ 1.76600931, -0.2277552 , -0.38377708, ...,  1.        ,\n",
              "         0.        ,  0.        ],\n",
              "       [ 0.81724868, -0.95867683, -0.73836105, ...,  1.        ,\n",
              "         0.        ,  0.        ]])"
            ]
          },
          "metadata": {},
          "execution_count": 13
        }
      ]
    },
    {
      "cell_type": "markdown",
      "source": [
        "Finalmente evidenciamos que nuestros datos estan completos, sin faltantes"
      ],
      "metadata": {
        "id": "5SA0UOs7bkTw"
      }
    }
  ]
}